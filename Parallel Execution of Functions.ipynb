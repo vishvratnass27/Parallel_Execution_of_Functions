{
 "cells": [
  {
   "cell_type": "code",
   "execution_count": null,
   "id": "6403c799",
   "metadata": {},
   "outputs": [],
   "source": [
    "import threading\n",
    "import time\n",
    "\n",
    "def print_a():\n",
    "    while True:\n",
    "        print(\"aaaa\")\n",
    "        time.sleep(1)  # Delay between prints\n",
    "\n",
    "def print_b():\n",
    "    while True:\n",
    "        print(\"bbbb\")\n",
    "        time.sleep(1)  # Delay between prints"
   ]
  },
  {
   "cell_type": "code",
   "execution_count": null,
   "id": "7791fb50",
   "metadata": {},
   "outputs": [],
   "source": [
    "# Create threads for each function\n",
    "thread_a = threading.Thread(target=print_a)\n",
    "thread_b = threading.Thread(target=print_b)\n",
    "\n",
    "# Start the threads\n",
    "thread_a.start()\n",
    "thread_b.start()"
   ]
  },
  {
   "cell_type": "code",
   "execution_count": null,
   "id": "cc42e4ef",
   "metadata": {},
   "outputs": [],
   "source": []
  }
 ],
 "metadata": {
  "kernelspec": {
   "display_name": "Python 3 (ipykernel)",
   "language": "python",
   "name": "python3"
  },
  "language_info": {
   "codemirror_mode": {
    "name": "ipython",
    "version": 3
   },
   "file_extension": ".py",
   "mimetype": "text/x-python",
   "name": "python",
   "nbconvert_exporter": "python",
   "pygments_lexer": "ipython3",
   "version": "3.9.13"
  }
 },
 "nbformat": 4,
 "nbformat_minor": 5
}
